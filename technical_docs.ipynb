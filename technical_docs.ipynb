{
  "nbformat": 4,
  "nbformat_minor": 0,
  "metadata": {
    "colab": {
      "provenance": [],
      "authorship_tag": "ABX9TyO/1Trrv5g4iiA//92UfEs0",
      "include_colab_link": true
    },
    "kernelspec": {
      "name": "python3",
      "display_name": "Python 3"
    },
    "language_info": {
      "name": "python"
    }
  },
  "cells": [
    {
      "cell_type": "markdown",
      "metadata": {
        "id": "view-in-github",
        "colab_type": "text"
      },
      "source": [
        "<a href=\"https://colab.research.google.com/github/Juniverze/technical-discussion/blob/main/technical_docs.ipynb\" target=\"_parent\"><img src=\"https://colab.research.google.com/assets/colab-badge.svg\" alt=\"Open In Colab\"/></a>"
      ]
    },
    {
      "cell_type": "markdown",
      "source": [
        "# Ingest"
      ],
      "metadata": {
        "id": "9baxdt1dJbzP"
      }
    },
    {
      "cell_type": "code",
      "source": [
        "def hello():\n",
        "  return \"hi\"\n",
        "hello()"
      ],
      "metadata": {
        "colab": {
          "base_uri": "https://localhost:8080/",
          "height": 35
        },
        "id": "6eLl0CAqJf7x",
        "outputId": "d5ef4eab-e04a-423a-dfd1-f6f626edffb9"
      },
      "execution_count": 2,
      "outputs": [
        {
          "output_type": "execute_result",
          "data": {
            "text/plain": [
              "'hi'"
            ],
            "application/vnd.google.colaboratory.intrinsic+json": {
              "type": "string"
            }
          },
          "metadata": {},
          "execution_count": 2
        }
      ]
    },
    {
      "cell_type": "markdown",
      "source": [
        "# Modeling"
      ],
      "metadata": {
        "id": "Z-aIIBiuK7ds"
      }
    },
    {
      "cell_type": "markdown",
      "source": [
        "# EDA"
      ],
      "metadata": {
        "id": "oAgnbJ_IKV_k"
      }
    },
    {
      "cell_type": "markdown",
      "source": [
        "### This is markdown heading\n",
        "\n",
        "* one\n",
        "* two\n",
        "* three"
      ],
      "metadata": {
        "id": "VFSMxylcLhWc"
      }
    },
    {
      "cell_type": "code",
      "source": [],
      "metadata": {
        "id": "R0j-zVsaLgoh"
      },
      "execution_count": null,
      "outputs": []
    },
    {
      "cell_type": "markdown",
      "source": [
        "# Conclusion"
      ],
      "metadata": {
        "id": "IknIBIpiLHOJ"
      }
    },
    {
      "cell_type": "code",
      "source": [],
      "metadata": {
        "id": "eK9qwZCeLI5g"
      },
      "execution_count": null,
      "outputs": []
    }
  ]
}